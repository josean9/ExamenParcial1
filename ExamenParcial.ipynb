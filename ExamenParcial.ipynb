{
 "cells": [
  {
   "cell_type": "markdown",
   "metadata": {},
   "source": [
    "Pregunta 1 (1 Punto):\n",
    "\n",
    "Explique en detalle el principio SOLID \"Open/Closed\" y proporcione un ejemplo de código en Python donde este principio se ha violado y cómo puede corregirlo."
   ]
  },
  {
   "cell_type": "markdown",
   "metadata": {},
   "source": [
    "Basicamente, el principio Solid \"Open/Closed\" establece que el codigo que tengas debe estar abierto a la extension pero cerrado a la modificacion, de este modo hacemos un codigo mas mantenible, escalable y reducimos evitamos la aparicion de errores en codigos que ya funcionan, a continuacion se proporciona un ejemplo."
   ]
  },
  {
   "cell_type": "code",
   "execution_count": 1,
   "metadata": {},
   "outputs": [],
   "source": [
    "class NotificationSender:\n",
    "    def send_notification(self, notification_type, message):\n",
    "        if notification_type == \"email\":\n",
    "            print(f\"Enviando correo electrónico: {message}\")\n",
    "        elif notification_type == \"sms\":\n",
    "            print(f\"Enviando SMS: {message}\")\n",
    "        # si quisiesemos anadir otro tipo de notificaciones, habria que cambiar el codigo, en lugr de esto, escogemos el siguiente codigo\n"
   ]
  },
  {
   "cell_type": "code",
   "execution_count": 3,
   "metadata": {},
   "outputs": [],
   "source": [
    "from abc import ABC, abstractmethod\n",
    "\n",
    "#Lo mas abstracto, la notificacion, creamos esta clase con el metodo send\n",
    "class Notification(ABC):\n",
    "    @abstractmethod\n",
    "    def send(self, message):\n",
    "        pass\n",
    "\n",
    "#clases concretas que heredan de Notification y definen la froma en la que se envia la notificacion\n",
    "\n",
    "class EmailNotification(Notification):\n",
    "    def send(self, message):\n",
    "        print(f\"Enviando correo electrónico: {message}\")\n",
    "\n",
    "\n",
    "class SMSNotification(Notification):\n",
    "    def send(self, message):\n",
    "        print(f\"Enviando SMS: {message}\")\n",
    "\n",
    "#creamos esta clase que se dedica a enviar el mensaje \"messag\"e\" y a crear una notificacion del tipo que queramos \n",
    "class NotificationSender:\n",
    "    def __init__(self, notification: Notification):\n",
    "        self.notification = notification\n",
    "\n",
    "    def send_notification(self, message):\n",
    "        self.notification.send(message)\n"
   ]
  },
  {
   "cell_type": "code",
   "execution_count": 7,
   "metadata": {},
   "outputs": [
    {
     "name": "stdout",
     "output_type": "stream",
     "text": [
      "Enviando SMS: sms1\n",
      "Enviando SMS: sms2\n"
     ]
    }
   ],
   "source": [
    "sms1 = SMSNotification()\n",
    "sms1.send(\"sms1\")\n",
    "sender = NotificationSender(sms1)\n",
    "sender.send_notification(\"sms2\")"
   ]
  },
  {
   "cell_type": "markdown",
   "metadata": {},
   "source": [
    "Pregunta 2(1 Punto):\n",
    "\n",
    "Describa el patrón de diseño \"Factory\". ¿En qué situaciones sería útil este patrón? Proporcione un ejemplo de cómo implementaría este patrón en Python para un problema relacionado con la ingeniería matemática, como la creación de diferentes tipos de funciones matemáticas."
   ]
  },
  {
   "cell_type": "code",
   "execution_count": 8,
   "metadata": {},
   "outputs": [],
   "source": [
    "from abc import ABC, abstractmethod\n",
    "\n",
    "#La clase mas abstracta, funcion matematica, de esta se pueden crear la exponencial, lineal... \n",
    "\n",
    "class funcionMatematica(ABC):\n",
    "    @abstractmethod\n",
    "    def evaluar(self, x):\n",
    "        pass\n",
    "\n",
    "class funcionLinea(funcionMatematica):\n",
    "    def __init__(self, m, n):\n",
    "        self.m = m #pendiente\n",
    "        self.n = n #corte con el eje\n",
    "    def evaluar(self, x):\n",
    "        return self.m*x+self.n\n",
    "class funcionExponencial(funcionMatematica):\n",
    "    def __init__(self, m):\n",
    "        self.m = m #base\n",
    "    def evaluar(self, x):\n",
    "        return self.m**x"
   ]
  },
  {
   "cell_type": "code",
   "execution_count": null,
   "metadata": {},
   "outputs": [],
   "source": [
    "#Ponemos en marcha la fabrica\n",
    "class FabricaFunciones:\n",
    "    @staticmethod\n",
    "    def crear_funcion(tipo, *args):\n",
    "        if tipo == \"lineal\":\n",
    "            return FuncionLineal(*args)\n",
    "        elif tipo == \"exponencial\":\n",
    "            return FuncionExponencial(*args)\n",
    "        else:\n",
    "            raise ValueError(\"Tipo de función no reconocido.\")\n"
   ]
  }
 ],
 "metadata": {
  "kernelspec": {
   "display_name": "Python 3.9.13 ('base')",
   "language": "python",
   "name": "python3"
  },
  "language_info": {
   "codemirror_mode": {
    "name": "ipython",
    "version": 3
   },
   "file_extension": ".py",
   "mimetype": "text/x-python",
   "name": "python",
   "nbconvert_exporter": "python",
   "pygments_lexer": "ipython3",
   "version": "3.9.13"
  },
  "orig_nbformat": 4,
  "vscode": {
   "interpreter": {
    "hash": "ad2bdc8ecc057115af97d19610ffacc2b4e99fae6737bb82f5d7fb13d2f2c186"
   }
  }
 },
 "nbformat": 4,
 "nbformat_minor": 2
}
