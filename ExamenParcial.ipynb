{
 "cells": [
  {
   "cell_type": "markdown",
   "metadata": {},
   "source": [
    "Pregunta 1 (1 Punto):\n",
    "\n",
    "Explique en detalle el principio SOLID \"Open/Closed\" y proporcione un ejemplo de código en Python donde este principio se ha violado y cómo puede corregirlo."
   ]
  },
  {
   "cell_type": "markdown",
   "metadata": {},
   "source": [
    "Basicamente, el principio Solid \"Open/Closed\" establece que el codigo que tengas debe estar abierto a la extension pero cerrado a la modificacion, de este modo hacemos un codigo mas mantenible, escalable y reducimos evitamos la aparicion de errores en codigos que ya funcionan, a continuacion se proporciona un ejemplo."
   ]
  },
  {
   "cell_type": "code",
   "execution_count": 1,
   "metadata": {},
   "outputs": [],
   "source": [
    "class NotificationSender:\n",
    "    def send_notification(self, notification_type, message):\n",
    "        if notification_type == \"email\":\n",
    "            print(f\"Enviando correo electrónico: {message}\")\n",
    "        elif notification_type == \"sms\":\n",
    "            print(f\"Enviando SMS: {message}\")\n",
    "        # si quisiesemos anadir otro tipo de notificaciones, habria que cambiar el codigo, en lugr de esto, escogemos el siguiente codigo\n"
   ]
  },
  {
   "cell_type": "code",
   "execution_count": 3,
   "metadata": {},
   "outputs": [],
   "source": [
    "from abc import ABC, abstractmethod\n",
    "\n",
    "#Lo mas abstracto, la notificacion, creamos esta clase con el metodo send\n",
    "class Notification(ABC):\n",
    "    @abstractmethod\n",
    "    def send(self, message):\n",
    "        pass\n",
    "\n",
    "#clases concretas que heredan de Notification y definen la froma en la que se envia la notificacion\n",
    "\n",
    "class EmailNotification(Notification):\n",
    "    def send(self, message):\n",
    "        print(f\"Enviando correo electrónico: {message}\")\n",
    "\n",
    "\n",
    "class SMSNotification(Notification):\n",
    "    def send(self, message):\n",
    "        print(f\"Enviando SMS: {message}\")\n",
    "\n",
    "#creamos esta clase que se dedica a enviar el mensaje \"messag\"e\" y a crear una notificacion del tipo que queramos \n",
    "class NotificationSender:\n",
    "    def __init__(self, notification: Notification):\n",
    "        self.notification = notification\n",
    "\n",
    "    def send_notification(self, message):\n",
    "        self.notification.send(message)\n"
   ]
  },
  {
   "cell_type": "code",
   "execution_count": 7,
   "metadata": {},
   "outputs": [
    {
     "name": "stdout",
     "output_type": "stream",
     "text": [
      "Enviando SMS: sms1\n",
      "Enviando SMS: sms2\n"
     ]
    }
   ],
   "source": [
    "sms1 = SMSNotification()\n",
    "sms1.send(\"sms1\")\n",
    "sender = NotificationSender(sms1)\n",
    "sender.send_notification(\"sms2\")"
   ]
  },
  {
   "cell_type": "markdown",
   "metadata": {},
   "source": [
    "Pregunta 2(1 Punto):\n",
    "\n",
    "Describa el patrón de diseño \"Factory\". ¿En qué situaciones sería útil este patrón? Proporcione un ejemplo de cómo implementaría este patrón en Python para un problema relacionado con la ingeniería matemática, como la creación de diferentes tipos de funciones matemáticas."
   ]
  },
  {
   "cell_type": "markdown",
   "metadata": {},
   "source": [
    "  El patrón de diseño Factory (Fábrica) es una forma de organizar el código para crear objetos sin que el cliente necesite conocer los detalles de cómo se crean. Así, el código es más fácil de mantener y modificar."
   ]
  },
  {
   "cell_type": "code",
   "execution_count": 19,
   "metadata": {},
   "outputs": [],
   "source": [
    "from abc import ABC, abstractmethod\n",
    "\n",
    "#La clase mas abstracta, funcion matematica, de esta se pueden crear la exponencial, lineal... \n",
    "class funcionMatematica(ABC):\n",
    "    @abstractmethod\n",
    "    def evaluar(self, x):\n",
    "        pass\n",
    "\n",
    "class funcionLinea(funcionMatematica):\n",
    "    def __init__(self, m, n):\n",
    "        self.m = m #pendiente\n",
    "        self.n = n #corte con el eje\n",
    "    def evaluar(self, x):\n",
    "        return self.m*x+self.n\n",
    "\n",
    "class funcionExponencial(funcionMatematica):\n",
    "    def __init__(self, m):\n",
    "        self.m = m #base\n",
    "    def evaluar(self, x):\n",
    "        return self.m**x"
   ]
  },
  {
   "cell_type": "code",
   "execution_count": 20,
   "metadata": {},
   "outputs": [],
   "source": [
    "#Ponemos en marcha la fabrica\n",
    "class FabricaFunciones:\n",
    "    @staticmethod\n",
    "    def crear_funcion(tipo, *args):\n",
    "        if tipo == \"lineal\":\n",
    "            return funcionLinea(*args)\n",
    "        elif tipo == \"exponencial\":\n",
    "            return funcionExponencial(*args)\n",
    "        else:\n",
    "            raise ValueError(\"Tipo de función no reconocido.\")\n"
   ]
  },
  {
   "cell_type": "code",
   "execution_count": 24,
   "metadata": {},
   "outputs": [
    {
     "name": "stdout",
     "output_type": "stream",
     "text": [
      "26\n",
      "94143178827\n"
     ]
    }
   ],
   "source": [
    "funcion = FabricaFunciones.crear_funcion(\"lineal\",3,2)\n",
    "funcion1 = FabricaFunciones.crear_funcion(\"exponencial\",3)\n",
    "print(funcion.evaluar(8))\n",
    "print(funcion1.evaluar(23))"
   ]
  },
  {
   "cell_type": "markdown",
   "metadata": {},
   "source": [
    "Pregunta 3(1 Punto):\n",
    "\n",
    "Explique el antipatrón \"God Object\". ¿Por qué es perjudicial este antipatrón y qué problemas puede causar en el desarrollo de software? Proporcione un ejemplo de un \"God Object\" en un contexto de ingeniería matemática y explique cómo podría refactorizarlo para evitar este antipatrón."
   ]
  },
  {
   "cell_type": "markdown",
   "metadata": {},
   "source": [
    "Un God Object, es un objeto con demasiadas responsabilidades como por ejemplo una clase que tenga dentro un monton de atributos/metodos, lo cual hace el codigo lioso, es poco mantenible/entendible, baja escalabilidad..."
   ]
  },
  {
   "cell_type": "code",
   "execution_count": null,
   "metadata": {},
   "outputs": [],
   "source": [
    "#un ejemplo de god object es el siguiente\n",
    "class Banco:\n",
    "    def __init__(self):\n",
    "        self.clientes = []\n",
    "        self.cuentas = []\n",
    "    \n",
    "    def agregar_cliente(self, nombre, direccion):\n",
    "        cliente = {\"nombre\": nombre, \"direccion\": direccion}\n",
    "        self.clientes.append(cliente)\n",
    "        return cliente\n",
    "\n",
    "    def crear_cuenta(self, cliente, tipo=\"ahorros\", saldo_inicial=0):\n",
    "        cuenta = {\n",
    "            \"cliente\": cliente,\n",
    "            \"tipo\": tipo,\n",
    "            \"saldo\": saldo_inicial\n",
    "        }\n",
    "        self.cuentas.append(cuenta)\n",
    "        return cuenta\n",
    "\n",
    "    def depositar(self, cuenta, monto):\n",
    "        cuenta[\"saldo\"] += monto\n",
    "\n",
    "    def retirar(self, cuenta, monto):\n",
    "        if cuenta[\"saldo\"] >= monto:\n",
    "            cuenta[\"saldo\"] -= monto\n",
    "        else:\n",
    "            print(\"Fondos insuficientes\")\n",
    "\n",
    "    def obtener_saldo(self, cuenta):\n",
    "        return cuenta[\"saldo\"]\n",
    "\n",
    "    def obtener_clientes(self):\n",
    "        return [cliente[\"nombre\"] for cliente in self.clientes]\n"
   ]
  },
  {
   "cell_type": "markdown",
   "metadata": {},
   "source": [
    "Seria mucho mas optimo el crear por un lado la clase cliente, por otro la clase cuenta y la clase banco"
   ]
  },
  {
   "cell_type": "code",
   "execution_count": 25,
   "metadata": {},
   "outputs": [],
   "source": [
    "class Cliente:\n",
    "    def __init__(self, nombre, direccion):\n",
    "        self.nombre = nombre\n",
    "        self.direccion = direccion\n",
    "\n",
    "class Cuenta:\n",
    "    def __init__(self, cliente, tipo=\"ahorros\", saldo_inicial=0):\n",
    "        self.cliente = cliente\n",
    "        self.tipo = tipo\n",
    "        self.saldo = saldo_inicial\n",
    "\n",
    "    def depositar(self, monto):\n",
    "        self.saldo += monto\n",
    "\n",
    "    def retirar(self, monto):\n",
    "        if self.saldo >= monto:\n",
    "            self.saldo -= monto\n",
    "        else:\n",
    "            print(\"Fondos insuficientes\")\n",
    "\n",
    "class Banco:\n",
    "    def __init__(self):\n",
    "        self.clientes = []\n",
    "        self.cuentas = []\n",
    "\n",
    "    def agregar_cliente(self, nombre, direccion):\n",
    "        cliente = Cliente(nombre, direccion)\n",
    "        self.clientes.append(cliente)\n",
    "        return cliente\n",
    "\n",
    "    def crear_cuenta(self, cliente, tipo=\"ahorros\", saldo_inicial=0):\n",
    "        cuenta = Cuenta(cliente, tipo, saldo_inicial)\n",
    "        self.cuentas.append(cuenta)\n",
    "        return cuenta\n"
   ]
  },
  {
   "cell_type": "markdown",
   "metadata": {},
   "source": [
    "Pregunta 4(1 Punto):\n",
    "\n",
    "Los principios DRY (Don't Repeat Yourself) y KISS (Keep It Simple, Stupid) son fundamentales para escribir código de alta calidad. Proporcione un ejemplo de un fragmento de código Python que viole estos principios. Describa cómo lo refactorizaría para adherirse a los principios DRY y KISS."
   ]
  },
  {
   "cell_type": "markdown",
   "metadata": {},
   "source": [
    "EL principio DRY establece que en el codigo no debe haber duplicaciones innecesarias de una parte del codigo, para conseguir un codigo mas mantenible y consistente, de esta forma reducimos errores, logramos un codigo mas limpio..."
   ]
  },
  {
   "cell_type": "code",
   "execution_count": null,
   "metadata": {},
   "outputs": [],
   "source": [
    "# Sin DRY\n",
    "radio = 5\n",
    "area1 = 3.1416 * radio ** 2  # Cálculo del área\n",
    "area2 = 3.1416 * radio ** 2  # Otro cálculo idéntico en otra parte del código\n"
   ]
  },
  {
   "cell_type": "code",
   "execution_count": null,
   "metadata": {},
   "outputs": [],
   "source": [
    "def calcular_area_circulo(radio): #Si creamos una funcion que nos calcule de por si el area de un circulo de radio r cumplimos el DRY\n",
    "    return 3.1416 * radio ** 2\n",
    "\n",
    "area1 = calcular_area_circulo(5)\n",
    "area2 = calcular_area_circulo(7)\n"
   ]
  },
  {
   "cell_type": "markdown",
   "metadata": {},
   "source": [
    "El principio KISS establece que es mejor hacer codigos que sean simples y directos, de esta forma el codigo es mas mantenible, entendible y es mas facil de depurar"
   ]
  },
  {
   "cell_type": "code",
   "execution_count": 27,
   "metadata": {},
   "outputs": [
    {
     "name": "stdout",
     "output_type": "stream",
     "text": [
      "True\n",
      "False\n"
     ]
    }
   ],
   "source": [
    "def es_par(numero): #codigo que puede simplificarse\n",
    "    if numero % 2 == 0:\n",
    "        return True\n",
    "    else:\n",
    "        return False\n",
    "print(es_par(2))\n",
    "print(es_par(3))"
   ]
  },
  {
   "cell_type": "code",
   "execution_count": 26,
   "metadata": {},
   "outputs": [
    {
     "name": "stdout",
     "output_type": "stream",
     "text": [
      "True\n",
      "False\n"
     ]
    }
   ],
   "source": [
    "def es_par(numero): #codigo mas simple\n",
    "    return numero % 2 == 0\n",
    "print(es_par(2))\n",
    "print(es_par(3))"
   ]
  },
  {
   "cell_type": "markdown",
   "metadata": {},
   "source": [
    "Pregunta 5(1 Punto):\n",
    "\n",
    "El patrón de diseño \"Observer\" permite que un objeto notifique a otros objetos sobre los cambios en su estado. Describa una situación en el contexto de la ingeniería matemática donde este patrón sería útil. Implemente un ejemplo simple de este patrón en Python para ilustrar su respuesta."
   ]
  },
  {
   "cell_type": "markdown",
   "metadata": {},
   "source": [
    "Un observer/observador, es una clase que controla a otras por sis ucede en estas un cambio de estado, en el ambito de la ingenieria matematica, dentro de una clase contador, tenemos dos controladores que iran actualizano el estado del contador"
   ]
  },
  {
   "cell_type": "code",
   "execution_count": 28,
   "metadata": {},
   "outputs": [
    {
     "name": "stdout",
     "output_type": "stream",
     "text": [
      "El contador ahora es: 1\n",
      "Historial actualizado: [1]\n",
      "El contador ahora es: 2\n",
      "Historial actualizado: [1, 2]\n",
      "El contador ahora es: 3\n",
      "Historial actualizado: [1, 2, 3]\n"
     ]
    }
   ],
   "source": [
    "\n",
    "class Contador:\n",
    "    def __init__(self):\n",
    "        self.valor = 0   #creaamos una clase contados, en su creador (__init__) le metemos los atributos valor y sus observers\n",
    "        self.observadores = []\n",
    "\n",
    "    def agregar_observador(self, observador):\n",
    "        self.observadores.append(observador)   # creamos un metodo para anadir observadores\n",
    "\n",
    "    def notificar_observadores(self):\n",
    "        for observador in self.observadores:  # y les creamos un metodo notificar_observadores que llamara al metodo actualizar dentro de los observadores\n",
    "            observador.actualizar(self.valor)\n",
    "\n",
    "    def incrementar(self): # por ultimo en el contador, la clase incrementar que aumentara el valor de el contador, y llamara al metodo notificar_observadores\n",
    "        self.valor += 1\n",
    "        self.notificar_observadores()\n",
    "\n",
    "class MostrarEnPantalla:\n",
    "    def actualizar(self, valor):  # primer contador que muestra el valor actual del comtador\n",
    "        print(f\"El contador ahora es: {valor}\")\n",
    "\n",
    "class GuardarEnHistorial:\n",
    "    def __init__(self):\n",
    "        self.historial = []\n",
    "\n",
    "    def actualizar(self, valor):\n",
    "        self.historial.append(valor) # un metodo que almacena todos los distintos valo0res del contador y que los imprimira\n",
    "        print(f\"Historial actualizado: {self.historial}\")\n",
    "\n",
    "# Crear el contador y los observadores\n",
    "contador = Contador()\n",
    "mostrar = MostrarEnPantalla()\n",
    "historial = GuardarEnHistorial()\n",
    "\n",
    "# Agregar los observadores al contador\n",
    "contador.agregar_observador(mostrar)\n",
    "contador.agregar_observador(historial)\n",
    "\n",
    "# Incrementar el contador, lo cual notifica a los observadores\n",
    "contador.incrementar()  \n",
    "contador.incrementar()  \n",
    "contador.incrementar()  "
   ]
  },
  {
   "cell_type": "markdown",
   "metadata": {},
   "source": []
  }
 ],
 "metadata": {
  "kernelspec": {
   "display_name": "Python 3.9.13 ('base')",
   "language": "python",
   "name": "python3"
  },
  "language_info": {
   "codemirror_mode": {
    "name": "ipython",
    "version": 3
   },
   "file_extension": ".py",
   "mimetype": "text/x-python",
   "name": "python",
   "nbconvert_exporter": "python",
   "pygments_lexer": "ipython3",
   "version": "3.9.13"
  },
  "orig_nbformat": 4,
  "vscode": {
   "interpreter": {
    "hash": "ad2bdc8ecc057115af97d19610ffacc2b4e99fae6737bb82f5d7fb13d2f2c186"
   }
  }
 },
 "nbformat": 4,
 "nbformat_minor": 2
}
