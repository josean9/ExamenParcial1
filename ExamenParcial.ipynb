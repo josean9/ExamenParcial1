{
 "cells": [
  {
   "cell_type": "markdown",
   "metadata": {},
   "source": [
    "Pregunta 1 (1 Punto):\n",
    "\n",
    "Explique en detalle el principio SOLID \"Open/Closed\" y proporcione un ejemplo de código en Python donde este principio se ha violado y cómo puede corregirlo."
   ]
  },
  {
   "cell_type": "markdown",
   "metadata": {},
   "source": [
    "Basicamente, el principio Solid \"Open/Closed\" establece que el codigo que tengas debe estar abierto a la extension pero cerrado a la modificacion, de este modo hacemos un codigo mas mantenible, escalable y reducimos evitamos la aparicion de errores en codigos que ya funcionan, a continuacion se proporciona un ejemplo."
   ]
  },
  {
   "cell_type": "code",
   "execution_count": 1,
   "metadata": {},
   "outputs": [],
   "source": [
    "class NotificationSender:\n",
    "    def send_notification(self, notification_type, message):\n",
    "        if notification_type == \"email\":\n",
    "            print(f\"Enviando correo electrónico: {message}\")\n",
    "        elif notification_type == \"sms\":\n",
    "            print(f\"Enviando SMS: {message}\")\n",
    "        # si quisiesemos anadir otro tipo de notificaciones, habria que cambiar el codigo, en lugr de esto, escogemos el siguiente codigo\n"
   ]
  },
  {
   "cell_type": "code",
   "execution_count": 3,
   "metadata": {},
   "outputs": [],
   "source": [
    "from abc import ABC, abstractmethod\n",
    "\n",
    "#Lo mas abstracto, la notificacion, creamos esta clase con el metodo send\n",
    "class Notification(ABC):\n",
    "    @abstractmethod\n",
    "    def send(self, message):\n",
    "        pass\n",
    "\n",
    "#clases concretas que heredan de Notification y definen la froma en la que se envia la notificacion\n",
    "\n",
    "class EmailNotification(Notification):\n",
    "    def send(self, message):\n",
    "        print(f\"Enviando correo electrónico: {message}\")\n",
    "\n",
    "\n",
    "class SMSNotification(Notification):\n",
    "    def send(self, message):\n",
    "        print(f\"Enviando SMS: {message}\")\n",
    "\n",
    "#creamos esta clase que se dedica a enviar el mensaje \"messag\"e\" y a crear una notificacion del tipo que queramos \n",
    "class NotificationSender:\n",
    "    def __init__(self, notification: Notification):\n",
    "        self.notification = notification\n",
    "\n",
    "    def send_notification(self, message):\n",
    "        self.notification.send(message)\n"
   ]
  },
  {
   "cell_type": "code",
   "execution_count": 7,
   "metadata": {},
   "outputs": [
    {
     "name": "stdout",
     "output_type": "stream",
     "text": [
      "Enviando SMS: sms1\n",
      "Enviando SMS: sms2\n"
     ]
    }
   ],
   "source": [
    "sms1 = SMSNotification()\n",
    "sms1.send(\"sms1\")\n",
    "sender = NotificationSender(sms1)\n",
    "sender.send_notification(\"sms2\")"
   ]
  },
  {
   "cell_type": "markdown",
   "metadata": {},
   "source": [
    "Pregunta 2(1 Punto):\n",
    "\n",
    "Describa el patrón de diseño \"Factory\". ¿En qué situaciones sería útil este patrón? Proporcione un ejemplo de cómo implementaría este patrón en Python para un problema relacionado con la ingeniería matemática, como la creación de diferentes tipos de funciones matemáticas."
   ]
  },
  {
   "cell_type": "markdown",
   "metadata": {},
   "source": [
    "  El patrón de diseño Factory (Fábrica) es una forma de organizar el código para crear objetos sin que el cliente necesite conocer los detalles de cómo se crean. Así, el código es más fácil de mantener y modificar."
   ]
  },
  {
   "cell_type": "code",
   "execution_count": 19,
   "metadata": {},
   "outputs": [],
   "source": [
    "from abc import ABC, abstractmethod\n",
    "\n",
    "#La clase mas abstracta, funcion matematica, de esta se pueden crear la exponencial, lineal... \n",
    "class funcionMatematica(ABC):\n",
    "    @abstractmethod\n",
    "    def evaluar(self, x):\n",
    "        pass\n",
    "\n",
    "class funcionLinea(funcionMatematica):\n",
    "    def __init__(self, m, n):\n",
    "        self.m = m #pendiente\n",
    "        self.n = n #corte con el eje\n",
    "    def evaluar(self, x):\n",
    "        return self.m*x+self.n\n",
    "\n",
    "class funcionExponencial(funcionMatematica):\n",
    "    def __init__(self, m):\n",
    "        self.m = m #base\n",
    "    def evaluar(self, x):\n",
    "        return self.m**x"
   ]
  },
  {
   "cell_type": "code",
   "execution_count": 20,
   "metadata": {},
   "outputs": [],
   "source": [
    "#Ponemos en marcha la fabrica\n",
    "class FabricaFunciones:\n",
    "    @staticmethod\n",
    "    def crear_funcion(tipo, *args):\n",
    "        if tipo == \"lineal\":\n",
    "            return funcionLinea(*args)\n",
    "        elif tipo == \"exponencial\":\n",
    "            return funcionExponencial(*args)\n",
    "        else:\n",
    "            raise ValueError(\"Tipo de función no reconocido.\")\n"
   ]
  },
  {
   "cell_type": "code",
   "execution_count": 24,
   "metadata": {},
   "outputs": [
    {
     "name": "stdout",
     "output_type": "stream",
     "text": [
      "26\n",
      "94143178827\n"
     ]
    }
   ],
   "source": [
    "funcion = FabricaFunciones.crear_funcion(\"lineal\",3,2)\n",
    "funcion1 = FabricaFunciones.crear_funcion(\"exponencial\",3)\n",
    "print(funcion.evaluar(8))\n",
    "print(funcion1.evaluar(23))"
   ]
  },
  {
   "cell_type": "markdown",
   "metadata": {},
   "source": [
    "Pregunta 3(1 Punto):\n",
    "\n",
    "Explique el antipatrón \"God Object\". ¿Por qué es perjudicial este antipatrón y qué problemas puede causar en el desarrollo de software? Proporcione un ejemplo de un \"God Object\" en un contexto de ingeniería matemática y explique cómo podría refactorizarlo para evitar este antipatrón."
   ]
  },
  {
   "cell_type": "markdown",
   "metadata": {},
   "source": [
    "Un God Object, es un objeto con demasiadas responsabilidades como por ejemplo una clase que tenga dentro un monton de atributos/metodos, lo cual hace el codigo lioso, es poco mantenible/entendible, baja escalabilidad..."
   ]
  },
  {
   "cell_type": "code",
   "execution_count": null,
   "metadata": {},
   "outputs": [],
   "source": [
    "#un ejemplo de god object es el siguiente\n",
    "class Banco:\n",
    "    def __init__(self):\n",
    "        self.clientes = []\n",
    "        self.cuentas = []\n",
    "    \n",
    "    def agregar_cliente(self, nombre, direccion):\n",
    "        cliente = {\"nombre\": nombre, \"direccion\": direccion}\n",
    "        self.clientes.append(cliente)\n",
    "        return cliente\n",
    "\n",
    "    def crear_cuenta(self, cliente, tipo=\"ahorros\", saldo_inicial=0):\n",
    "        cuenta = {\n",
    "            \"cliente\": cliente,\n",
    "            \"tipo\": tipo,\n",
    "            \"saldo\": saldo_inicial\n",
    "        }\n",
    "        self.cuentas.append(cuenta)\n",
    "        return cuenta\n",
    "\n",
    "    def depositar(self, cuenta, monto):\n",
    "        cuenta[\"saldo\"] += monto\n",
    "\n",
    "    def retirar(self, cuenta, monto):\n",
    "        if cuenta[\"saldo\"] >= monto:\n",
    "            cuenta[\"saldo\"] -= monto\n",
    "        else:\n",
    "            print(\"Fondos insuficientes\")\n",
    "\n",
    "    def obtener_saldo(self, cuenta):\n",
    "        return cuenta[\"saldo\"]\n",
    "\n",
    "    def obtener_clientes(self):\n",
    "        return [cliente[\"nombre\"] for cliente in self.clientes]\n"
   ]
  },
  {
   "cell_type": "markdown",
   "metadata": {},
   "source": [
    "Seria mucho mas optimo el crear por un lado la clase cliente, por otro la clase cuenta y la clase banco"
   ]
  },
  {
   "cell_type": "code",
   "execution_count": 25,
   "metadata": {},
   "outputs": [],
   "source": [
    "class Cliente:\n",
    "    def __init__(self, nombre, direccion):\n",
    "        self.nombre = nombre\n",
    "        self.direccion = direccion\n",
    "\n",
    "class Cuenta:\n",
    "    def __init__(self, cliente, tipo=\"ahorros\", saldo_inicial=0):\n",
    "        self.cliente = cliente\n",
    "        self.tipo = tipo\n",
    "        self.saldo = saldo_inicial\n",
    "\n",
    "    def depositar(self, monto):\n",
    "        self.saldo += monto\n",
    "\n",
    "    def retirar(self, monto):\n",
    "        if self.saldo >= monto:\n",
    "            self.saldo -= monto\n",
    "        else:\n",
    "            print(\"Fondos insuficientes\")\n",
    "\n",
    "class Banco:\n",
    "    def __init__(self):\n",
    "        self.clientes = []\n",
    "        self.cuentas = []\n",
    "\n",
    "    def agregar_cliente(self, nombre, direccion):\n",
    "        cliente = Cliente(nombre, direccion)\n",
    "        self.clientes.append(cliente)\n",
    "        return cliente\n",
    "\n",
    "    def crear_cuenta(self, cliente, tipo=\"ahorros\", saldo_inicial=0):\n",
    "        cuenta = Cuenta(cliente, tipo, saldo_inicial)\n",
    "        self.cuentas.append(cuenta)\n",
    "        return cuenta\n"
   ]
  },
  {
   "cell_type": "markdown",
   "metadata": {},
   "source": [
    "Pregunta 4(1 Punto):\n",
    "\n",
    "Los principios DRY (Don't Repeat Yourself) y KISS (Keep It Simple, Stupid) son fundamentales para escribir código de alta calidad. Proporcione un ejemplo de un fragmento de código Python que viole estos principios. Describa cómo lo refactorizaría para adherirse a los principios DRY y KISS."
   ]
  },
  {
   "cell_type": "markdown",
   "metadata": {},
   "source": [
    "EL principio DRY establece que en el codigo no debe haber duplicaciones innecesarias de una parte del codigo, para conseguir un codigo mas mantenible y consistente, de esta forma reducimos errores, logramos un codigo mas limpio..."
   ]
  },
  {
   "cell_type": "code",
   "execution_count": null,
   "metadata": {},
   "outputs": [],
   "source": [
    "# Sin DRY\n",
    "radio = 5\n",
    "area1 = 3.1416 * radio ** 2  # Cálculo del área\n",
    "area2 = 3.1416 * radio ** 2  # Otro cálculo idéntico en otra parte del código\n"
   ]
  },
  {
   "cell_type": "code",
   "execution_count": null,
   "metadata": {},
   "outputs": [],
   "source": [
    "def calcular_area_circulo(radio): #Si creamos una funcion que nos calcule de por si el area de un circulo de radio r cumplimos el DRY\n",
    "    return 3.1416 * radio ** 2\n",
    "\n",
    "area1 = calcular_area_circulo(5)\n",
    "area2 = calcular_area_circulo(7)\n"
   ]
  },
  {
   "cell_type": "markdown",
   "metadata": {},
   "source": [
    "El principio KISS establece que es mejor hacer codigos que sean simples y directos, de esta forma el codigo es mas mantenible, entendible y es mas facil de depurar"
   ]
  },
  {
   "cell_type": "code",
   "execution_count": 27,
   "metadata": {},
   "outputs": [
    {
     "name": "stdout",
     "output_type": "stream",
     "text": [
      "True\n",
      "False\n"
     ]
    }
   ],
   "source": [
    "def es_par(numero): #codigo que puede simplificarse\n",
    "    if numero % 2 == 0:\n",
    "        return True\n",
    "    else:\n",
    "        return False\n",
    "print(es_par(2))\n",
    "print(es_par(3))"
   ]
  },
  {
   "cell_type": "code",
   "execution_count": 26,
   "metadata": {},
   "outputs": [
    {
     "name": "stdout",
     "output_type": "stream",
     "text": [
      "True\n",
      "False\n"
     ]
    }
   ],
   "source": [
    "def es_par(numero): #codigo mas simple\n",
    "    return numero % 2 == 0\n",
    "print(es_par(2))\n",
    "print(es_par(3))"
   ]
  },
  {
   "cell_type": "markdown",
   "metadata": {},
   "source": [
    "Pregunta 5(1 Punto):\n",
    "\n",
    "El patrón de diseño \"Observer\" permite que un objeto notifique a otros objetos sobre los cambios en su estado. Describa una situación en el contexto de la ingeniería matemática donde este patrón sería útil. Implemente un ejemplo simple de este patrón en Python para ilustrar su respuesta."
   ]
  },
  {
   "cell_type": "markdown",
   "metadata": {},
   "source": [
    "Un observer/observador, es una clase que controla a otras por sis ucede en estas un cambio de estado, en el ambito de la ingenieria matematica, dentro de una clase contador, tenemos dos controladores que iran actualizano el estado del contador"
   ]
  },
  {
   "cell_type": "code",
   "execution_count": 28,
   "metadata": {},
   "outputs": [
    {
     "name": "stdout",
     "output_type": "stream",
     "text": [
      "El contador ahora es: 1\n",
      "Historial actualizado: [1]\n",
      "El contador ahora es: 2\n",
      "Historial actualizado: [1, 2]\n",
      "El contador ahora es: 3\n",
      "Historial actualizado: [1, 2, 3]\n"
     ]
    }
   ],
   "source": [
    "\n",
    "class Contador:\n",
    "    def __init__(self):\n",
    "        self.valor = 0   #creaamos una clase contados, en su creador (__init__) le metemos los atributos valor y sus observers\n",
    "        self.observadores = []\n",
    "\n",
    "    def agregar_observador(self, observador):\n",
    "        self.observadores.append(observador)   # creamos un metodo para anadir observadores\n",
    "\n",
    "    def notificar_observadores(self):\n",
    "        for observador in self.observadores:  # y les creamos un metodo notificar_observadores que llamara al metodo actualizar dentro de los observadores\n",
    "            observador.actualizar(self.valor)\n",
    "\n",
    "    def incrementar(self): # por ultimo en el contador, la clase incrementar que aumentara el valor de el contador, y llamara al metodo notificar_observadores\n",
    "        self.valor += 1\n",
    "        self.notificar_observadores()\n",
    "\n",
    "class MostrarEnPantalla:\n",
    "    def actualizar(self, valor):  # primer contador que muestra el valor actual del comtador\n",
    "        print(f\"El contador ahora es: {valor}\")\n",
    "\n",
    "class GuardarEnHistorial:\n",
    "    def __init__(self):\n",
    "        self.historial = []\n",
    "\n",
    "    def actualizar(self, valor):\n",
    "        self.historial.append(valor) # un metodo que almacena todos los distintos valo0res del contador y que los imprimira\n",
    "        print(f\"Historial actualizado: {self.historial}\")\n",
    "\n",
    "# Crear el contador y los observadores\n",
    "contador = Contador()\n",
    "mostrar = MostrarEnPantalla()\n",
    "historial = GuardarEnHistorial()\n",
    "\n",
    "# Agregar los observadores al contador\n",
    "contador.agregar_observador(mostrar)\n",
    "contador.agregar_observador(historial)\n",
    "\n",
    "# Incrementar el contador, lo cual notifica a los observadores\n",
    "contador.incrementar()  \n",
    "contador.incrementar()  \n",
    "contador.incrementar()  "
   ]
  },
  {
   "cell_type": "markdown",
   "metadata": {},
   "source": [
    "Pregunta Práctica 1: Refactorización de código con Principios SOLID(2,5 Puntos)\n",
    "\n",
    "Se le proporciona un fragmento de código Python que maneja diferentes tipos de formas geométricas. Actualmente, el código viola el Principio de Responsabilidad Única (SRP) y el Principio Abierto/Cerrado (OCP) de SOLID. Su tarea es refactorizar este código para que se adhiera a estos principios."
   ]
  },
  {
   "cell_type": "markdown",
   "metadata": {},
   "source": []
  },
  {
   "cell_type": "code",
   "execution_count": null,
   "metadata": {},
   "outputs": [],
   "source": [
    "class Shape:\n",
    "    def __init__(self, type):\n",
    "        self.type = type\n",
    "\n",
    "class AreaCalculator:\n",
    "    def __init__(self, shapes):\n",
    "        self.shapes = shapes\n",
    "\n",
    "    def total_area(self):\n",
    "        total = 0\n",
    "        for shape in self.shapes:\n",
    "            if shape.type == \"circle\":\n",
    "                radius = 1.0  # Supongamos que el radio es siempre 1 para este ejemplo\n",
    "                total += 3.14159 * radius * radius\n",
    "            elif shape.type == \"square\":\n",
    "                side = 1.0  # Supongamos que el lado es siempre 1 para este ejemplo\n",
    "                total += side * side\n",
    "        return total\n",
    "\n",
    "shapes = [Shape(\"circle\"), Shape(\"square\")]\n",
    "calculator = AreaCalculator(shapes)\n",
    "print(calculator.total_area())"
   ]
  },
  {
   "cell_type": "markdown",
   "metadata": {},
   "source": [
    "El codigo modificado de forma que cumpla los principios de solid quedaria tal que:"
   ]
  },
  {
   "cell_type": "code",
   "execution_count": 36,
   "metadata": {},
   "outputs": [
    {
     "name": "stdout",
     "output_type": "stream",
     "text": [
      "4.141592653589793\n"
     ]
    }
   ],
   "source": [
    "from abc import ABC, abstractmethod\n",
    "import numpy as np\n",
    "\n",
    "#Lo mas abstracto, la notificacion, creamos esta clase con el metodo send\n",
    "class Shape(ABC):\n",
    "    @abstractmethod\n",
    "    def calcular_area(self, message):\n",
    "        pass\n",
    "\n",
    "class Square(Shape):\n",
    "    def __init__(self):\n",
    "        self.lado = 1.0\n",
    "    def calcular_area(self):\n",
    "        return self.lado**2\n",
    "\n",
    "class Circle(Shape):\n",
    "    def __init__(self):\n",
    "        self.radio = 1\n",
    "    def calcular_area(self):\n",
    "        return np.pi*self.radio**2\n",
    "\n",
    "class ShapeFactory:\n",
    "    @staticmethod\n",
    "    def create_shape(type):\n",
    "        if type == \"circle\":\n",
    "            return Circle()\n",
    "        elif type == \"square\":\n",
    "            return Square()\n",
    "        else:\n",
    "            raise ValueError(f\"Tipo de forma desconocido: {type}\")\n",
    "\n",
    "# AreaCalculator que usa el método area() de cada forma sin condicionales\n",
    "class AreaCalculator:\n",
    "    def __init__(self, shapes):\n",
    "        self.shapes = shapes\n",
    "\n",
    "    def total_area(self):\n",
    "        total = sum(shape.calcular_area() for shape in self.shapes)\n",
    "        return total\n",
    "\n",
    "# Crear las formas usando la fábrica\n",
    "shapes = [ShapeFactory.create_shape(\"circle\"), ShapeFactory.create_shape(\"square\")]\n",
    "calculator = AreaCalculator(shapes)\n",
    "print(calculator.total_area())"
   ]
  },
  {
   "cell_type": "markdown",
   "metadata": {},
   "source": [
    "Pregunta Práctica 2: Implementación de Patrón de Diseño Estrategia(2,5 Puntos)\n",
    "\n",
    "En ingeniería matemática, es común que necesitemos intercambiar diferentes algoritmos dependiendo de la situación. Considere una aplicación que debe realizar la integración numérica de una función. Hay diferentes métodos para realizar esta integración, como el método del trapecio, el método de Simpson, la cuadratura gaussiana, entre otros.\n",
    "\n",
    "Se le pide que implemente este escenario utilizando el patrón de diseño estrategia. Debe proporcionar una estructura que permita cambiar fácilmente el método de integración. Incluya al menos dos métodos específicos (por ejemplo, Trapecio y Simpson) y demuestre cómo se podrían cambiar estos métodos en tiempo de ejecución."
   ]
  },
  {
   "cell_type": "code",
   "execution_count": 2,
   "metadata": {},
   "outputs": [
    {
     "name": "stdout",
     "output_type": "stream",
     "text": [
      "Resultado usando Método del Trapecio: 0.33335000000000004\n",
      "Resultado usando Método de Simpson: 0.3333333333333334\n"
     ]
    }
   ],
   "source": [
    "from abc import ABC, abstractmethod\n",
    "\n",
    "class EstrategiaIntegracion(ABC):\n",
    "    @abstractmethod\n",
    "    def integrar(self, funcion, xi, xf, n):\n",
    "        pass\n",
    "\n",
    "class MetodoTrapecio(EstrategiaIntegracion):\n",
    "    def integrar(self, funcion, xi, xf, n):\n",
    "        h = (xf - xi) / n\n",
    "        resultado = 0.5 * (funcion(a) + funcion(b))\n",
    "        for i in range(1, n):\n",
    "            resultado += funcion(a + i * h)\n",
    "        resultado *= h\n",
    "        return resultado\n",
    "\n",
    "\n",
    "class MetodoSimpson(EstrategiaIntegracion):\n",
    "    def integrar(self, funcion, a, b, n):\n",
    "        if n % 2 == 1:\n",
    "            n += 1  \n",
    "        h = (b - a) / n\n",
    "        resultado = funcion(a) + funcion(b)\n",
    "        for i in range(1, n, 2):\n",
    "            resultado += 4 * funcion(a + i * h)\n",
    "        for i in range(2, n-1, 2):\n",
    "            resultado += 2 * funcion(a + i * h)\n",
    "        resultado *= h / 3\n",
    "        return resultado\n",
    "\n",
    "class Integrador:\n",
    "    def __init__(self, estrategia: EstrategiaIntegracion):\n",
    "        self.estrategia = estrategia\n",
    "\n",
    "    def cambiar_estrategia(self, nueva_estrategia: EstrategiaIntegracion):\n",
    "        self.estrategia = nueva_estrategia\n",
    "\n",
    "    def integrar(self, funcion, a, b, n):\n",
    "        return self.estrategia.integrar(funcion, a, b, n)\n",
    "\n",
    "\n",
    "def funcion_ejemplo(x):\n",
    "    return x ** 2  \n",
    "\n",
    "estrategia_trapecio = MetodoTrapecio()\n",
    "estrategia_simpson = MetodoSimpson()\n",
    "\n",
    "\n",
    "integrador = Integrador(estrategia_trapecio)\n",
    "resultado = integrador.integrar(funcion_ejemplo, 0, 1, 100)\n",
    "print(f\"Resultado usando Método del Trapecio: {resultado}\")\n",
    "\n",
    "\n",
    "integrador.cambiar_estrategia(estrategia_simpson)\n",
    "resultado = integrador.integrar(funcion_ejemplo, 0, 1, 100)\n",
    "print(f\"Resultado usando Método de Simpson: {resultado}\")\n"
   ]
  },
  {
   "cell_type": "code",
   "execution_count": null,
   "metadata": {},
   "outputs": [],
   "source": []
  }
 ],
 "metadata": {
  "kernelspec": {
   "display_name": "Python 3.9.13 ('base')",
   "language": "python",
   "name": "python3"
  },
  "language_info": {
   "codemirror_mode": {
    "name": "ipython",
    "version": 3
   },
   "file_extension": ".py",
   "mimetype": "text/x-python",
   "name": "python",
   "nbconvert_exporter": "python",
   "pygments_lexer": "ipython3",
   "version": "3.9.13"
  },
  "orig_nbformat": 4,
  "vscode": {
   "interpreter": {
    "hash": "ad2bdc8ecc057115af97d19610ffacc2b4e99fae6737bb82f5d7fb13d2f2c186"
   }
  }
 },
 "nbformat": 4,
 "nbformat_minor": 2
}
